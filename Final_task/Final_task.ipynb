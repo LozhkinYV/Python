{
  "nbformat": 4,
  "nbformat_minor": 0,
  "metadata": {
    "colab": {
      "provenance": []
    },
    "kernelspec": {
      "name": "python3",
      "display_name": "Python 3"
    },
    "language_info": {
      "name": "python"
    }
  },
  "cells": [
    {
      "cell_type": "markdown",
      "source": [
        "f(x) = -5*x**2 + 10*x - 150\n",
        "\n",
        "1. Определить корни\n",
        "2. Найти интервалы, на которых функция возрастает\n",
        "3. Найти интервалы, на которых функция убывает\n",
        "4. Построить график\n",
        "5. Вычислить вершину\n",
        "6. Определить промежутки, на котором f > 0\n",
        "7. Определить промежутки, на котором f < 0"
      ],
      "metadata": {
        "id": "Yym5yQ5GT_eQ"
      }
    },
    {
      "cell_type": "code",
      "source": [
        "import math\n",
        "from sympy import *\n",
        "from sympy.plotting import plot"
      ],
      "metadata": {
        "id": "Mh8AN5LbU0Dx"
      },
      "execution_count": 24,
      "outputs": []
    },
    {
      "cell_type": "markdown",
      "source": [
        "Задаем фунцию f(x) = -5x**2 + 10x - 150"
      ],
      "metadata": {
        "id": "mkxB3EUDVxWj"
      }
    },
    {
      "cell_type": "code",
      "source": [
        "x = Symbol('x', real=True)\n",
        "fx = -5*x**2 + 10*x - 150\n",
        "fx\n"
      ],
      "metadata": {
        "colab": {
          "base_uri": "https://localhost:8080/",
          "height": 39
        },
        "id": "sKfvQgk4V3vt",
        "outputId": "9f1c36d9-314b-4b1b-f9dc-4a772ed806b0"
      },
      "execution_count": 63,
      "outputs": [
        {
          "output_type": "execute_result",
          "data": {
            "text/plain": [
              "-5*x**2 + 10*x - 150"
            ],
            "text/latex": "$\\displaystyle - 5 x^{2} + 10 x - 150$"
          },
          "metadata": {},
          "execution_count": 63
        }
      ]
    },
    {
      "cell_type": "markdown",
      "source": [
        "4. Построим график"
      ],
      "metadata": {
        "id": "XIyKk86eW5al"
      }
    },
    {
      "cell_type": "code",
      "source": [
        "plot(fx, (x, -10, 12))"
      ],
      "metadata": {
        "colab": {
          "base_uri": "https://localhost:8080/",
          "height": 314
        },
        "id": "Kv-XkNfvW4RN",
        "outputId": "ef15b9f7-f445-4496-f2f0-912a47d72851"
      },
      "execution_count": 64,
      "outputs": [
        {
          "output_type": "display_data",
          "data": {
            "text/plain": [
              "<Figure size 432x288 with 1 Axes>"
            ],
            "image/png": "[encoded data removed]"
          },
          "metadata": {
            "needs_background": "light"
          }
        },
        {
          "output_type": "execute_result",
          "data": {
            "text/plain": [
              "<sympy.plotting.plot.Plot at 0x7faa7d3dfd00>"
            ]
          },
          "metadata": {},
          "execution_count": 64
        }
      ]
    },
    {
      "cell_type": "markdown",
      "source": [
        "5. Вычислим вершину"
      ],
      "metadata": {
        "id": "mvHNqy6cYHwD"
      }
    },
    {
      "cell_type": "code",
      "source": [
        "print(f'Вершина х = {solve(diff(fx))}')"
      ],
      "metadata": {
        "colab": {
          "base_uri": "https://localhost:8080/"
        },
        "id": "cysURQP7YPpv",
        "outputId": "2e413800-b2b1-4db4-86bf-a302afb89c4a"
      },
      "execution_count": 65,
      "outputs": [
        {
          "output_type": "stream",
          "name": "stdout",
          "text": [
            "Вершина х = [1]\n"
          ]
        }
      ]
    },
    {
      "cell_type": "markdown",
      "source": [
        "1. Определим корни"
      ],
      "metadata": {
        "id": "xWUN2PhWZCRV"
      }
    },
    {
      "cell_type": "code",
      "source": [
        "sqrt_x = solve(fx, x, dict=True)\n",
        "if not sqrt_x:\n",
        "  print('Нет корней')\n",
        "else:\n",
        "  print(f'Корни = {solve(fx,  x, dict=True)}')\n"
      ],
      "metadata": {
        "colab": {
          "base_uri": "https://localhost:8080/"
        },
        "id": "TvhBHwCXZNPv",
        "outputId": "7c381b48-ef96-4bb9-9942-57f04c823481"
      },
      "execution_count": 66,
      "outputs": [
        {
          "output_type": "stream",
          "name": "stdout",
          "text": [
            "Нет корней\n"
          ]
        }
      ]
    },
    {
      "cell_type": "markdown",
      "source": [
        "2. Интервалы, на которых функция возрастает"
      ],
      "metadata": {
        "id": "KpYr6Sa1kz7R"
      }
    },
    {
      "cell_type": "code",
      "source": [
        "print(f'Функция возрастает при {solve(diff(fx) > 0)}')"
      ],
      "metadata": {
        "colab": {
          "base_uri": "https://localhost:8080/"
        },
        "id": "JJNEs-9QlBsM",
        "outputId": "a30399e3-777f-498a-bbdd-9531b8a9b6fc"
      },
      "execution_count": 67,
      "outputs": [
        {
          "output_type": "stream",
          "name": "stdout",
          "text": [
            "Функция возрастает при x < 1\n"
          ]
        }
      ]
    },
    {
      "cell_type": "markdown",
      "source": [
        "3. Интервалы, на которых функция убывает"
      ],
      "metadata": {
        "id": "lIqBqSX7k4CX"
      }
    },
    {
      "cell_type": "code",
      "source": [
        "print(f'Функция убывает при {solve(diff(fx) < 0)}')"
      ],
      "metadata": {
        "colab": {
          "base_uri": "https://localhost:8080/"
        },
        "id": "MOB56SDilhI3",
        "outputId": "e18fab5d-18e4-44fd-d918-1e00c811601f"
      },
      "execution_count": 68,
      "outputs": [
        {
          "output_type": "stream",
          "name": "stdout",
          "text": [
            "Функция убывает при 1 < x\n"
          ]
        }
      ]
    },
    {
      "cell_type": "markdown",
      "source": [
        "6. Промежутки, на котором f > 0"
      ],
      "metadata": {
        "id": "B1RLvbyal7v6"
      }
    },
    {
      "cell_type": "code",
      "source": [
        "x = Symbol('x')\n",
        "fx = -5*x**2 + 10*x - 150\n",
        "if not solve(fx > 0):\n",
        "  print('Нет значений')\n",
        "else:\n",
        "  print(f'Значения (f > 0): {solve(fx > 0)}')"
      ],
      "metadata": {
        "colab": {
          "base_uri": "https://localhost:8080/"
        },
        "id": "VAa9Cho9mKEY",
        "outputId": "712ef6d6-c560-4614-e11d-8d07d6da6bc8"
      },
      "execution_count": 70,
      "outputs": [
        {
          "output_type": "stream",
          "name": "stdout",
          "text": [
            "Нет значений\n"
          ]
        }
      ]
    },
    {
      "cell_type": "markdown",
      "source": [
        "7. Промежутки, на котором f < 0"
      ],
      "metadata": {
        "id": "L2IPeE7VmE0G"
      }
    },
    {
      "cell_type": "code",
      "source": [
        "x = Symbol('x')\n",
        "fx = -5*x**2 + 10*x - 150\n",
        "if not solve(fx < 0):\n",
        "  print('Нет значений')\n",
        "else:\n",
        "  print(f'Значения (f < 0): {solve(fx < 0)}')"
      ],
      "metadata": {
        "colab": {
          "base_uri": "https://localhost:8080/"
        },
        "id": "ri4Q9g14miYr",
        "outputId": "1ee2d04d-d90d-4db7-da4a-d08ecf4ef24e"
      },
      "execution_count": 71,
      "outputs": [
        {
          "output_type": "stream",
          "name": "stdout",
          "text": [
            "Значения (f < 0): (-oo < x) & (x < oo)\n"
          ]
        }
      ]
    }
  ]
}